{
 "cells": [
  {
   "cell_type": "code",
   "execution_count": 1,
   "metadata": {},
   "outputs": [
    {
     "name": "stdout",
     "output_type": "stream",
     "text": [
      "Requirement already satisfied: torch in c:\\users\\дима титаренко\\appdata\\local\\programs\\python\\python311\\lib\\site-packages (2.1.0+cu118)\n",
      "Note: you may need to restart the kernel to use updated packages.\n"
     ]
    },
    {
     "name": "stderr",
     "output_type": "stream",
     "text": [
      "ERROR: Could not find a version that satisfies the requirement transformer (from versions: none)\n",
      "ERROR: No matching distribution found for transformer\n",
      "\n",
      "[notice] A new release of pip is available: 23.3.1 -> 23.3.2\n",
      "[notice] To update, run: python.exe -m pip install --upgrade pip\n"
     ]
    }
   ],
   "source": [
    "%pip install torch transformer sklearn numpy"
   ]
  },
  {
   "cell_type": "code",
   "execution_count": 30,
   "metadata": {},
   "outputs": [
    {
     "name": "stderr",
     "output_type": "stream",
     "text": [
      "If you want to use `BertLMHeadModel` as a standalone, add `is_decoder=True.`\n",
      "Asking to truncate to max_length but no maximum length is provided and the model has no predefined maximum length. Default to no truncation.\n"
     ]
    },
    {
     "name": "stdout",
     "output_type": "stream",
     "text": [
      "Какие у вас хобби?..!!.??!?. и и он он,,., ; ;. ;, и. - -. на. \" \". также также \" также, \", также что что, что где где что \" ; \" и \" другие другие \" - \" : : \"''\n",
      "Какие у вас хобби?\n"
     ]
    }
   ],
   "source": [
    "import torch\n",
    "from transformers import BertLMHeadModel, BertTokenizer, AdamW\n",
    "from sklearn.feature_extraction.text import TfidfVectorizer\n",
    "from sklearn.metrics.pairwise import cosine_similarity\n",
    "import numpy as np\n",
    "\n",
    "\n",
    "model_name = 'DeepPavlov/rubert-base-cased'\n",
    "tokenizer = BertTokenizer.from_pretrained(model_name)\n",
    "model = BertLMHeadModel.from_pretrained(model_name)\n",
    "\n",
    "optimizer = AdamW(model.parameters(), lr=1e-5)\n",
    "\n",
    "\n",
    "corpus = [\n",
    "    \"Как дела?\",\n",
    "    \"Что делаешь?\",\n",
    "    \"Как погода?\",\n",
    "    \"Как настроение?\",\n",
    "    \"Как прошёл день?\",\n",
    "    \"Какой ваш любимый цвет?\",\n",
    "    \"Что вы любите делать в свободное время?\",\n",
    "    \"Где вы родились?\",\n",
    "    \"Какая ваша профессия?\",\n",
    "    \"Какой ваш любимый фильм?\",\n",
    "    \"Вам нравится путешествовать?\",\n",
    "    \"Какой ваш любимый вид спорта?\",\n",
    "    \"Что вас вдохновляет?\",\n",
    "    \"Какие у вас хобби?\",\n",
    "    \"Что вы считаете своим главным достижением?\",\n",
    "    \"Какое ваше любимое животоное?\",\n",
    "    \"Какое вы видите будущее?\",\n",
    "    \"Какое ваше любимое растение?\",\n",
    "    \"Какие есть 3 состояния воды?\",\n",
    "    \"При какой температуре кипит вода?\",\n",
    "    \"Что такое колесо?\",\n",
    "    \"Зачем нужен воздух?\",\n",
    "    \"Каков химический состав воздуха?\",\n",
    "    \"Каков химический состав воды?\",\n",
    "    \"Почему машины не спорят?\",\n",
    "    \"Сколько всего языков в мире?\",\n",
    "    \"Каков состав сахара?\",\n",
    "    \"Почему ИИ не сможет самообучаться, когда он сам захочет?\",\n",
    "    \"В чём смысл жизни робота?\",\n",
    "    \"Как называют человека, который изучает следы?\",\n",
    "    \"Каков заряд обычной батарейки?\",\n",
    "    \"Зачем нужен мультиметр?\",\n",
    "    \"Что ты думаешь о терии Дарвина?\",\n",
    "    \"Сколько всего законов Ньютона?\",\n",
    "    \"Вы любите историю?\",\n",
    "    \"Какое самое запоминающее событие было в истории вашей страны?\",\n",
    "    \"Как думаете до каких высот дойдёт медецина?\",\n",
    "    \"Куда бы вы хотели поехать?\",\n",
    "    \"Что такое эмоциональный интеллект?\",\n",
    "    \"Как вы думаете Ии сможет обладать эмоциональным интеллектом?\",\n",
    "    \"Зачем нужен будильник?\",\n",
    "    \"Как работает проводная связь?\",\n",
    "    \"Какой чай вы пьёте чаще?\",\n",
    "    \"Существует ли жизнь в Марианской впадине?\",\n",
    "    \"Что такое звук?\",\n",
    "    \"Что такое аплитуда?\",\n",
    "    \"Что такое резонанс?\",\n",
    "    \"Какие знаки препинания существуют?\",\n",
    "    \"Сколько их всего?\",\n",
    "    \"Почему облака чернеют?\"\n",
    "]\n",
    "\n",
    "input_ids = tokenizer(corpus, return_tensors='pt', padding=True, truncation=True)\n",
    "\n",
    "vectorizer = TfidfVectorizer()\n",
    "tfidf_features = vectorizer.fit_transform(corpus)\n",
    "\n",
    "\n",
    "\n",
    "def generate_response_with_transformer(input_text):\n",
    "    input_ids = tokenizer.encode(input_text, return_tensors='pt')\n",
    "    output = model.generate(input_ids, max_length=70, num_return_sequences=1, no_repeat_ngram_size=2)\n",
    "    response = tokenizer.decode(output[0], skip_special_tokens=True)\n",
    "    return response\n",
    "\n",
    "\n",
    "def generate_response_with_tfidf(input_text):\n",
    "    input_feature = vectorizer.transform([input_text])\n",
    "    similarities = cosine_similarity(input_feature, tfidf_features)\n",
    "    index = np.argmax(similarities)\n",
    "    response = corpus[index]\n",
    "    return response\n",
    "\n",
    "\n",
    "user_input = \"Какие у вас хобби?\"\n",
    "transformer_response = generate_response_with_transformer(user_input)\n",
    "tfidf_response = generate_response_with_tfidf(user_input)\n",
    "\n",
    "print(transformer_response)\n",
    "print(tfidf_response)"
   ]
  },
  {
   "cell_type": "code",
   "execution_count": null,
   "metadata": {},
   "outputs": [],
   "source": []
  }
 ],
 "metadata": {
  "kernelspec": {
   "display_name": "Python 3",
   "language": "python",
   "name": "python3"
  },
  "language_info": {
   "codemirror_mode": {
    "name": "ipython",
    "version": 3
   },
   "file_extension": ".py",
   "mimetype": "text/x-python",
   "name": "python",
   "nbconvert_exporter": "python",
   "pygments_lexer": "ipython3",
   "version": "3.11.2"
  }
 },
 "nbformat": 4,
 "nbformat_minor": 2
}
