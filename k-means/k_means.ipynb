{
 "cells": [
  {
   "cell_type": "code",
   "execution_count": 1,
   "metadata": {},
   "outputs": [
    {
     "name": "stdout",
     "output_type": "stream",
     "text": [
      "Requirement already satisfied: numpy in c:\\users\\дима титаренко\\appdata\\local\\programs\\python\\python311\\lib\\site-packages (1.26.1)\n",
      "Note: you may need to restart the kernel to use updated packages.\n"
     ]
    }
   ],
   "source": [
    "%pip install numpy "
   ]
  },
  {
   "cell_type": "code",
   "execution_count": 11,
   "metadata": {},
   "outputs": [
    {
     "name": "stdout",
     "output_type": "stream",
     "text": [
      "Центроиды: [array([ 0.00063315, -0.00090444])]\n"
     ]
    }
   ],
   "source": [
    "import numpy as np\n",
    "\n",
    "def k_means(data, k):\n",
    "    # Инициализация центроид\n",
    "    centroids = data[np.random.choice(range(len(data)), size=k)]\n",
    "\n",
    "    while True:\n",
    "        # Выделение кластеров\n",
    "        clusters = [[] for i in range(k)]\n",
    "        for point in data:\n",
    "            distances = [np.linalg.norm(point - centroid) for centroid in centroids]\n",
    "            closest_centroid_idx = np.argmin(distances)\n",
    "            clusters[closest_centroid_idx].append(point)\n",
    "\n",
    "        # Обновление центроид\n",
    "        new_centroids = []\n",
    "        for cluster in clusters:\n",
    "            if len(cluster) > 0:\n",
    "                cluster_mean = np.mean(cluster, axis=0)\n",
    "                new_centroids.append(cluster_mean)\n",
    "\n",
    "        # Проверка на сходимость\n",
    "        if np.allclose(centroids, new_centroids):\n",
    "            break\n",
    "\n",
    "        centroids = new_centroids\n",
    "\n",
    "    return centroids\n",
    "\n",
    "# Пример использования\n",
    "data = np.array([[-0.010632763616740704, -0.009247861802577972], [-0.0001759731821948662, -0.00042535478132776916], [0.007487181574106216, 0.0029935588827356696], [0.009716968052089214, 0.00012433022493496537], [-0.0005368519341573119, -0.001768913003616035], [-0.002059641294181347, 0.0028976162429898977]])\n",
    "k = 1\n",
    "centroids = k_means(data, k)\n",
    "print(\"Центроиды:\", centroids)"
   ]
  },
  {
   "cell_type": "code",
   "execution_count": 13,
   "metadata": {},
   "outputs": [],
   "source": [
    "import numpy as np\n",
    "\n",
    "def find_closest_vector(centroid, vectors):\n",
    "    min_distance = float('inf')\n",
    "    closest_vector = None\n",
    "    \n",
    "    for vector in vectors:\n",
    "        distance = np.linalg.norm(centroid - vector)\n",
    "        \n",
    "        if distance < min_distance:\n",
    "            min_distance = distance\n",
    "            closest_vector = vector \n",
    "    \n",
    "    return closest_vector"
   ]
  },
  {
   "cell_type": "code",
   "execution_count": 15,
   "metadata": {},
   "outputs": [
    {
     "name": "stdout",
     "output_type": "stream",
     "text": [
      "Ближайщий вектор: [ 0.00277996 -0.00103763]\n"
     ]
    }
   ],
   "source": [
    "centroid = np.array([[0.00063315, -0.00090444]])\n",
    "vectors = [np.array([0.007984930649399757, -0.0029935588827356696]), np.array([0.009716968052089214, 0.007984930649399757]), np.array([0.002779955459118355, -0.001037625246681273])]\n",
    "\n",
    "closest_vector = find_closest_vector(centroid, vectors)\n",
    "print(\"Ближайщий вектор:\", closest_vector)"
   ]
  },
  {
   "cell_type": "code",
   "execution_count": null,
   "metadata": {},
   "outputs": [],
   "source": []
  }
 ],
 "metadata": {
  "kernelspec": {
   "display_name": "Python 3",
   "language": "python",
   "name": "python3"
  },
  "language_info": {
   "codemirror_mode": {
    "name": "ipython",
    "version": 3
   },
   "file_extension": ".py",
   "mimetype": "text/x-python",
   "name": "python",
   "nbconvert_exporter": "python",
   "pygments_lexer": "ipython3",
   "version": "3.11.2"
  }
 },
 "nbformat": 4,
 "nbformat_minor": 2
}
