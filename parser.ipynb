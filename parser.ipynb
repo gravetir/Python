{
 "cells": [
  {
   "cell_type": "code",
   "execution_count": 7,
   "metadata": {},
   "outputs": [
    {
     "name": "stdout",
     "output_type": "stream",
     "text": [
      "Requirement already satisfied: requests in c:\\users\\дима титаренко\\appdata\\local\\programs\\python\\python311\\lib\\site-packages (2.31.0)\n",
      "Requirement already satisfied: bs4 in c:\\users\\дима титаренко\\appdata\\local\\programs\\python\\python311\\lib\\site-packages (0.0.1)\n",
      "Requirement already satisfied: lxml in c:\\users\\дима титаренко\\appdata\\local\\programs\\python\\python311\\lib\\site-packages (4.9.3)\n",
      "Requirement already satisfied: charset-normalizer<4,>=2 in c:\\users\\дима титаренко\\appdata\\local\\programs\\python\\python311\\lib\\site-packages (from requests) (3.2.0)\n",
      "Requirement already satisfied: idna<4,>=2.5 in c:\\users\\дима титаренко\\appdata\\local\\programs\\python\\python311\\lib\\site-packages (from requests) (3.4)\n",
      "Requirement already satisfied: urllib3<3,>=1.21.1 in c:\\users\\дима титаренко\\appdata\\local\\programs\\python\\python311\\lib\\site-packages (from requests) (2.0.4)\n",
      "Requirement already satisfied: certifi>=2017.4.17 in c:\\users\\дима титаренко\\appdata\\local\\programs\\python\\python311\\lib\\site-packages (from requests) (2023.7.22)\n",
      "Requirement already satisfied: beautifulsoup4 in c:\\users\\дима титаренко\\appdata\\local\\programs\\python\\python311\\lib\\site-packages (from bs4) (4.12.2)\n",
      "Requirement already satisfied: soupsieve>1.2 in c:\\users\\дима титаренко\\appdata\\local\\programs\\python\\python311\\lib\\site-packages (from beautifulsoup4->bs4) (2.5)\n",
      "Note: you may need to restart the kernel to use updated packages.\n"
     ]
    }
   ],
   "source": [
    "%pip install requests bs4 lxml"
   ]
  },
  {
   "cell_type": "code",
   "execution_count": 3,
   "metadata": {},
   "outputs": [
    {
     "name": "stdout",
     "output_type": "stream",
     "text": [
      "<li class=\"dropdown\">\n",
      "<a class=\"dropdown-toggle\" data-toggle=\"dropdown\" href=\"/zhenskie-imena/\">Женские имена <span class=\"caret\"></span></a>\n",
      "<ul class=\"dropdown-menu\">\n",
      "<li><a aria-current=\"page\" href=\"/top-100-zhenskih-imen/\">Популярные женские имена (топ 100)</a></li>\n",
      "<li><a href=\"/krasivyie-zhenskie-imena/\">Красивые женские имена</a></li>\n",
      "<li><a href=\"/neobyichnyie-zhenskie-imena/\">Необычные женские имена</a></li>\n",
      "<li><a href=\"/redkie-zhenskie-imena/\">Редкие женские имена</a></li>\n",
      "<li><a href=\"/sovremennyie-zhenskie-imena/\">Современные женские имена</a></li>\n",
      "<li><a href=\"/starinnyie-zhenskie-imena/\">Старинные женские имена</a></li>\n",
      "<li><a href=\"/dvoynyie-zhenskie-imena/\">Двойные женские имена</a></li>\n",
      "</ul>\n",
      "</li>\n"
     ]
    }
   ],
   "source": [
    "import requests\n",
    "from bs4 import BeautifulSoup\n",
    "link= \"https://znachenie-tajna-imeni.ru/spisok-zhenskih-ukrainskih-imen-i-ih-znacheniya/\"\n",
    "responce =requests.get(link).text\n",
    "soup= BeautifulSoup(responce, 'lxml')\n",
    "block=soup.find('li')\n",
    "\n",
    "print(block)"
   ]
  },
  {
   "cell_type": "code",
   "execution_count": null,
   "metadata": {},
   "outputs": [],
   "source": []
  }
 ],
 "metadata": {
  "kernelspec": {
   "display_name": "Python 3",
   "language": "python",
   "name": "python3"
  },
  "language_info": {
   "codemirror_mode": {
    "name": "ipython",
    "version": 3
   },
   "file_extension": ".py",
   "mimetype": "text/x-python",
   "name": "python",
   "nbconvert_exporter": "python",
   "pygments_lexer": "ipython3",
   "version": "3.11.2"
  }
 },
 "nbformat": 4,
 "nbformat_minor": 2
}
