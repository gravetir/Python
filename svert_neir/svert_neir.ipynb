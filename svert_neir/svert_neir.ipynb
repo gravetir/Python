{
 "cells": [
  {
   "cell_type": "code",
   "execution_count": 1,
   "metadata": {},
   "outputs": [
    {
     "name": "stdout",
     "output_type": "stream",
     "text": [
      "Requirement already satisfied: torch in c:\\users\\дима титаренко\\appdata\\local\\programs\\python\\python311\\lib\\site-packages (2.1.0+cu118)\n",
      "Requirement already satisfied: filelock in c:\\users\\дима титаренко\\appdata\\local\\programs\\python\\python311\\lib\\site-packages (from torch) (3.9.0)\n",
      "Requirement already satisfied: typing-extensions in c:\\users\\дима титаренко\\appdata\\local\\programs\\python\\python311\\lib\\site-packages (from torch) (4.8.0)\n",
      "Requirement already satisfied: sympy in c:\\users\\дима титаренко\\appdata\\local\\programs\\python\\python311\\lib\\site-packages (from torch) (1.12)\n",
      "Requirement already satisfied: networkx in c:\\users\\дима титаренко\\appdata\\local\\programs\\python\\python311\\lib\\site-packages (from torch) (3.0)\n",
      "Requirement already satisfied: jinja2 in c:\\users\\дима титаренко\\appdata\\local\\programs\\python\\python311\\lib\\site-packages (from torch) (3.1.2)\n",
      "Requirement already satisfied: fsspec in c:\\users\\дима титаренко\\appdata\\local\\programs\\python\\python311\\lib\\site-packages (from torch) (2023.4.0)\n",
      "Requirement already satisfied: MarkupSafe>=2.0 in c:\\users\\дима титаренко\\appdata\\local\\programs\\python\\python311\\lib\\site-packages (from jinja2->torch) (2.1.3)\n",
      "Requirement already satisfied: mpmath>=0.19 in c:\\users\\дима титаренко\\appdata\\local\\programs\\python\\python311\\lib\\site-packages (from sympy->torch) (1.3.0)\n",
      "Note: you may need to restart the kernel to use updated packages.\n"
     ]
    }
   ],
   "source": [
    "%pip install torch"
   ]
  },
  {
   "cell_type": "code",
   "execution_count": 2,
   "metadata": {},
   "outputs": [],
   "source": [
    "from torchvision.transforms import transforms"
   ]
  },
  {
   "cell_type": "code",
   "execution_count": 9,
   "metadata": {},
   "outputs": [
    {
     "ename": "AttributeError",
     "evalue": "module 'cv2' has no attribute 'cv'",
     "output_type": "error",
     "traceback": [
      "\u001b[1;31m---------------------------------------------------------------------------\u001b[0m",
      "\u001b[1;31mAttributeError\u001b[0m                            Traceback (most recent call last)",
      "\u001b[1;32mc:\\Users\\Дима Титаренко\\Desktop\\Python\\svert_neir\\svert_neir.ipynb Cell 3\u001b[0m line \u001b[0;36m3\n\u001b[0;32m      <a href='vscode-notebook-cell:/c%3A/Users/%D0%94%D0%B8%D0%BC%D0%B0%20%D0%A2%D0%B8%D1%82%D0%B0%D1%80%D0%B5%D0%BD%D0%BA%D0%BE/Desktop/Python/svert_neir/svert_neir.ipynb#W2sZmlsZQ%3D%3D?line=0'>1</a>\u001b[0m \u001b[39mimport\u001b[39;00m \u001b[39mcv2\u001b[39;00m\n\u001b[1;32m----> <a href='vscode-notebook-cell:/c%3A/Users/%D0%94%D0%B8%D0%BC%D0%B0%20%D0%A2%D0%B8%D1%82%D0%B0%D1%80%D0%B5%D0%BD%D0%BA%D0%BE/Desktop/Python/svert_neir/svert_neir.ipynb#W2sZmlsZQ%3D%3D?line=2'>3</a>\u001b[0m im \u001b[39m=\u001b[39m cv2\u001b[39m.\u001b[39;49mcv\u001b[39m.\u001b[39mLoadImage(\u001b[39m\"\u001b[39m\u001b[39mC:\u001b[39m\u001b[39m\\\\\u001b[39;00m\u001b[39mUsers\u001b[39m\u001b[39m\\\\\u001b[39;00m\u001b[39mДима Титаренко\u001b[39m\u001b[39m\\\\\u001b[39;00m\u001b[39mDesktop\u001b[39m\u001b[39m\\\\\u001b[39;00m\u001b[39m1.jpg\u001b[39m\u001b[39m\"\u001b[39m, CV_LOAD_IMAGE_COLOR)\n\u001b[0;32m      <a href='vscode-notebook-cell:/c%3A/Users/%D0%94%D0%B8%D0%BC%D0%B0%20%D0%A2%D0%B8%D1%82%D0%B0%D1%80%D0%B5%D0%BD%D0%BA%D0%BE/Desktop/Python/svert_neir/svert_neir.ipynb#W2sZmlsZQ%3D%3D?line=4'>5</a>\u001b[0m im\u001b[39m.\u001b[39mshape\n",
      "\u001b[1;31mAttributeError\u001b[0m: module 'cv2' has no attribute 'cv'"
     ]
    }
   ],
   "source": [
    "import cv2\n",
    "\n",
    "im = cv2.cv.LoadImage(\"C:\\\\Users\\\\Дима Титаренко\\\\Desktop\\\\1.jpg\", CV_LOAD_IMAGE_COLOR)\n",
    "\n",
    "im.shape"
   ]
  },
  {
   "cell_type": "code",
   "execution_count": 10,
   "metadata": {},
   "outputs": [
    {
     "ename": "AttributeError",
     "evalue": "module 'torch' has no attribute 'reand'",
     "output_type": "error",
     "traceback": [
      "\u001b[1;31m---------------------------------------------------------------------------\u001b[0m",
      "\u001b[1;31mAttributeError\u001b[0m                            Traceback (most recent call last)",
      "\u001b[1;32mc:\\Users\\Дима Титаренко\\Desktop\\Python\\svert_neir\\svert_neir.ipynb Cell 4\u001b[0m line \u001b[0;36m3\n\u001b[0;32m      <a href='vscode-notebook-cell:/c%3A/Users/%D0%94%D0%B8%D0%BC%D0%B0%20%D0%A2%D0%B8%D1%82%D0%B0%D1%80%D0%B5%D0%BD%D0%BA%D0%BE/Desktop/Python/svert_neir/svert_neir.ipynb#W4sZmlsZQ%3D%3D?line=0'>1</a>\u001b[0m \u001b[39mimport\u001b[39;00m \u001b[39mtorch\u001b[39;00m\u001b[39m.\u001b[39;00m\u001b[39mnn\u001b[39;00m \u001b[39mas\u001b[39;00m \u001b[39mnn\u001b[39;00m\n\u001b[0;32m      <a href='vscode-notebook-cell:/c%3A/Users/%D0%94%D0%B8%D0%BC%D0%B0%20%D0%A2%D0%B8%D1%82%D0%B0%D1%80%D0%B5%D0%BD%D0%BA%D0%BE/Desktop/Python/svert_neir/svert_neir.ipynb#W4sZmlsZQ%3D%3D?line=1'>2</a>\u001b[0m \u001b[39mimport\u001b[39;00m \u001b[39mtorch\u001b[39;00m\n\u001b[1;32m----> <a href='vscode-notebook-cell:/c%3A/Users/%D0%94%D0%B8%D0%BC%D0%B0%20%D0%A2%D0%B8%D1%82%D0%B0%D1%80%D0%B5%D0%BD%D0%BA%D0%BE/Desktop/Python/svert_neir/svert_neir.ipynb#W4sZmlsZQ%3D%3D?line=2'>3</a>\u001b[0m a\u001b[39m=\u001b[39mtorch\u001b[39m.\u001b[39;49mreand((\u001b[39m2\u001b[39m,\u001b[39m1\u001b[39m,\u001b[39m1\u001b[39m,\u001b[39m28\u001b[39m))\n\u001b[0;32m      <a href='vscode-notebook-cell:/c%3A/Users/%D0%94%D0%B8%D0%BC%D0%B0%20%D0%A2%D0%B8%D1%82%D0%B0%D1%80%D0%B5%D0%BD%D0%BA%D0%BE/Desktop/Python/svert_neir/svert_neir.ipynb#W4sZmlsZQ%3D%3D?line=3'>4</a>\u001b[0m a\u001b[39m.\u001b[39msize()\n",
      "File \u001b[1;32mc:\\Users\\Дима Титаренко\\AppData\\Local\\Programs\\Python\\Python311\\Lib\\site-packages\\torch\\__init__.py:1833\u001b[0m, in \u001b[0;36m__getattr__\u001b[1;34m(name)\u001b[0m\n\u001b[0;32m   1830\u001b[0m     \u001b[39mimport\u001b[39;00m \u001b[39mimportlib\u001b[39;00m\n\u001b[0;32m   1831\u001b[0m     \u001b[39mreturn\u001b[39;00m importlib\u001b[39m.\u001b[39mimport_module(\u001b[39mf\u001b[39m\u001b[39m\"\u001b[39m\u001b[39m.\u001b[39m\u001b[39m{\u001b[39;00mname\u001b[39m}\u001b[39;00m\u001b[39m\"\u001b[39m, \u001b[39m__name__\u001b[39m)\n\u001b[1;32m-> 1833\u001b[0m \u001b[39mraise\u001b[39;00m \u001b[39mAttributeError\u001b[39;00m(\u001b[39mf\u001b[39m\u001b[39m\"\u001b[39m\u001b[39mmodule \u001b[39m\u001b[39m'\u001b[39m\u001b[39m{\u001b[39;00m\u001b[39m__name__\u001b[39m\u001b[39m}\u001b[39;00m\u001b[39m'\u001b[39m\u001b[39m has no attribute \u001b[39m\u001b[39m'\u001b[39m\u001b[39m{\u001b[39;00mname\u001b[39m}\u001b[39;00m\u001b[39m'\u001b[39m\u001b[39m\"\u001b[39m)\n",
      "\u001b[1;31mAttributeError\u001b[0m: module 'torch' has no attribute 'reand'"
     ]
    }
   ],
   "source": [
    "import torch.nn as nn\n",
    "import torch\n",
    "a=torch.reand((2,1,1,28))\n",
    "a.size()"
   ]
  },
  {
   "cell_type": "code",
   "execution_count": null,
   "metadata": {},
   "outputs": [],
   "source": [
    "a.view(-1, 28).size()"
   ]
  },
  {
   "cell_type": "code",
   "execution_count": null,
   "metadata": {},
   "outputs": [],
   "source": [
    "import torch\n",
    "\n",
    "a = torch.rand(5)"
   ]
  },
  {
   "cell_type": "code",
   "execution_count": null,
   "metadata": {},
   "outputs": [],
   "source": [
    "f_t = transforms.Lambda(lambda x: x * 2)\n",
    "f_t(a)\n",
    "transforms.ToPILImage()"
   ]
  },
  {
   "cell_type": "code",
   "execution_count": null,
   "metadata": {},
   "outputs": [],
   "source": [
    "f_t1 = transforms.Compose([\n",
    "    transforms.ToPILImage(),\n",
    "    transforms.Resize((124, 124)),\n",
    "    transforms.PILToTensor()\n",
    "])\n",
    "f_t1(a)\n",
    "transforms.ToPILImage()"
   ]
  },
  {
   "cell_type": "code",
   "execution_count": null,
   "metadata": {},
   "outputs": [],
   "source": [
    "import pathlib\n",
    "from torch.utils.data import Dataset"
   ]
  },
  {
   "cell_type": "code",
   "execution_count": null,
   "metadata": {},
   "outputs": [],
   "source": [
    "class LatinDataset(Dataset):\n",
    "  def __init__(self, path_dataset: pathlib.Path):\n",
    "    self.path_dataset = path_dataset\n",
    "    self.data_list = [x for x in self.path_dataset.glob(\"**/*\") if x.is_file()]\n",
    "    self.data_class = list(set(x.parent for x in self.data_list))\n",
    "    self.transform_func = transforms.Compose([\n",
    "      transforms.ToPILImage(),\n",
    "      transforms.Grayscale(),\n",
    "      transforms.Resize((124, 124)),\n",
    "      transforms.PILToTensor()\n",
    "  ])\n",
    "\n",
    "  def __len__(self):\n",
    "    return len(self.data_list)\n",
    "\n",
    "  def __getitem__(self, index):\n",
    "    img_path = self.data_list[index]\n",
    "    img_label = torch.zeros(len(self.data_class))\n",
    "    img_label[self.data_class.index(img_path.parent)] = 1.0\n",
    "    img_tensor = read_im(img_path)\n",
    "    return self.transform_func(img_tensor), img_label"
   ]
  },
  {
   "cell_type": "code",
   "execution_count": null,
   "metadata": {},
   "outputs": [],
   "source": [
    "class CVModel(nn.Module):\n",
    "    def __init__(self):\n",
    "        self.conv_1=nn.Conv2d(1, 32, (3, 3)) # фильтры и их количество\n",
    "        self.conv_2= nn.Conv2d(32, 64, (3, 3))\n",
    "        self.pool_1=nn.MaxPool2d((2, 2)) # выделение максимального значения окна,  сокращение картинки в 2 раза \n",
    "        self.conv_3=nn.Conv2d(64, 128, (3, 3))\n",
    "        self.conv_4=nn.Conv2d(128, 128, (3, 3))\n",
    "        self.pool_2= nn.MaxPool2d((2, 2))\n",
    "        self.glob_pool = nn.MaxPool2d(28, 28)\n",
    "        self.linear = nn.Linear(128,26)\n",
    "        self.softmax= nn.Softmax()\n",
    "        \n",
    "    def forward(self, x):\n",
    "        res= self.conv_1(x)\n",
    "        res= self.conv_2(res)\n",
    "        res= self.pool_1(res)\n",
    "        res= self.conv_3(res)\n",
    "        res= self.conv_4(res)\n",
    "        res= self.pool_2(res)\n",
    "        res= self.glob_pool(res)\n",
    "        res= self.linear(res.view(-1, 28))\n",
    "        return self.softmax(res)"
   ]
  }
 ],
 "metadata": {
  "kernelspec": {
   "display_name": "Python 3",
   "language": "python",
   "name": "python3"
  },
  "language_info": {
   "codemirror_mode": {
    "name": "ipython",
    "version": 3
   },
   "file_extension": ".py",
   "mimetype": "text/x-python",
   "name": "python",
   "nbconvert_exporter": "python",
   "pygments_lexer": "ipython3",
   "version": "3.11.2"
  }
 },
 "nbformat": 4,
 "nbformat_minor": 2
}
